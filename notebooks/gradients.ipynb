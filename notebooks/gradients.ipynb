{
 "cells": [
  {
   "cell_type": "code",
   "execution_count": 1,
   "metadata": {},
   "outputs": [
    {
     "name": "stdout",
     "output_type": "stream",
     "text": [
      "Working directory: /Users/mat/Desktop/Files/Code/Playground\n"
     ]
    }
   ],
   "source": [
    "import os\n",
    "\n",
    "if not 'have_changed_cwd' in globals():\n",
    "    PROJECT_ROOT = os.path.abspath(os.path.join(os.getcwd(), '..'))\n",
    "    os.chdir(PROJECT_ROOT)\n",
    "    print(f\"Working directory: {os.getcwd()}\")\n",
    "    have_changed_cwd = True"
   ]
  },
  {
   "cell_type": "code",
   "execution_count": 2,
   "metadata": {},
   "outputs": [],
   "source": [
    "from src.models.classification.classifier import ImageClassifier\n",
    "\n",
    "chkpt_path = \"classifiers/resnet9-cifar10/2024-12-27/19-57-36/checkpoints/last.ckpt\"\n",
    "classifier = ImageClassifier.load_from_checkpoint(chkpt_path)"
   ]
  },
  {
   "cell_type": "code",
   "execution_count": 3,
   "metadata": {},
   "outputs": [],
   "source": [
    "from random import sample\n",
    "from src.dataset.cifar import CIFAR10DataModule\n",
    "\n",
    "datamodule = CIFAR10DataModule.get_default_dataset(\"cifar10\", samples_per_class=30)"
   ]
  }
 ],
 "metadata": {
  "kernelspec": {
   "display_name": "ml",
   "language": "python",
   "name": "python3"
  },
  "language_info": {
   "codemirror_mode": {
    "name": "ipython",
    "version": 3
   },
   "file_extension": ".py",
   "mimetype": "text/x-python",
   "name": "python",
   "nbconvert_exporter": "python",
   "pygments_lexer": "ipython3",
   "version": "3.11.9"
  }
 },
 "nbformat": 4,
 "nbformat_minor": 2
}
